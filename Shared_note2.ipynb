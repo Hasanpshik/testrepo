{
 "cells": [
  {
   "cell_type": "markdown",
   "id": "0a9d5a0c-8e6c-4fa4-94f6-2e02fd647317",
   "metadata": {},
   "source": [
    "# My Jupyter Notebook on IBM Watson Studio"
   ]
  },
  {
   "cell_type": "markdown",
   "id": "0412cb0b-c685-462d-9880-2ea397f77f25",
   "metadata": {},
   "source": [
    "**Hasan Pshikhachev** \n",
    "<br>Right now I'm based in Almaty but would like to go to Dubai"
   ]
  },
  {
   "cell_type": "markdown",
   "id": "ed9765fb-4baf-4405-98a8-8fad91249a82",
   "metadata": {},
   "source": [
    "_Right now I work as Business Development specialist and I would like to strengthen my career studying data science._"
   ]
  },
  {
   "cell_type": "markdown",
   "id": "c620faf5-47e6-4374-96b3-d81441b772e3",
   "metadata": {},
   "source": [
    "### My code is devoted to the sum of 2 digits ###"
   ]
  },
  {
   "cell_type": "code",
   "execution_count": 1,
   "id": "8aa1c1f1-e959-47c7-954e-80dd20fb2567",
   "metadata": {},
   "outputs": [
    {
     "data": {
      "text/plain": [
       "9"
      ]
     },
     "execution_count": 1,
     "metadata": {},
     "output_type": "execute_result"
    }
   ],
   "source": [
    "2+7"
   ]
  },
  {
   "cell_type": "markdown",
   "id": "efae907a-9df9-4064-aa03-c0867cfff25d",
   "metadata": {},
   "source": [
    "|1213|1212|1212|\n",
    "|----|----|----|\n",
    "|1212|1212|1212|\n",
    "<br>\n",
    "<a href=\"https:google.com\"> Link to Google </a>\n"
   ]
  }
 ],
 "metadata": {
  "kernelspec": {
   "display_name": "Python",
   "language": "python",
   "name": "conda-env-python-py"
  },
  "language_info": {
   "codemirror_mode": {
    "name": "ipython",
    "version": 3
   },
   "file_extension": ".py",
   "mimetype": "text/x-python",
   "name": "python",
   "nbconvert_exporter": "python",
   "pygments_lexer": "ipython3",
   "version": "3.7.12"
  }
 },
 "nbformat": 4,
 "nbformat_minor": 5
}
